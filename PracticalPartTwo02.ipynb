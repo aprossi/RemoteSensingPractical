{
 "cells": [
  {
   "cell_type": "markdown",
   "metadata": {},
   "source": [
    "Testing orfeo toolbox python interface\n",
    "\n",
    "\n"
   ]
  },
  {
   "cell_type": "code",
   "execution_count": 2,
   "metadata": {
    "collapsed": false,
    "scrolled": true
   },
   "outputs": [
    {
     "name": "stdout",
     "output_type": "stream",
     "text": [
      "['', '/usr/local/lib/python2.7/dist-packages/pip-9.0.1-py2.7.egg', '/usr/lib/python2.7', '/usr/lib/python2.7/plat-x86_64-linux-gnu', '/usr/lib/python2.7/lib-tk', '/usr/lib/python2.7/lib-old', '/usr/lib/python2.7/lib-dynload', '/usr/local/lib/python2.7/dist-packages', '/usr/lib/python2.7/dist-packages', '/usr/lib/python2.7/dist-packages/PILcompat', '/usr/lib/python2.7/dist-packages/gtk-2.0', '/usr/lib/python2.7/dist-packages/wx-3.0-gtk2', '/usr/local/lib/python2.7/dist-packages/IPython/extensions', '/home/mminin/.ipython', '/usr/lib/otb/python']\n"
     ]
    }
   ],
   "source": [
    "import sys\n",
    "sys.path.append(\"/usr/lib/otb/python\") #need to add this to the path, \n",
    "#make sure to run \"sudo apt-get install python-otb\" first\n",
    "print(sys.path)"
   ]
  },
  {
   "cell_type": "code",
   "execution_count": null,
   "metadata": {
    "collapsed": true
   },
   "outputs": [],
   "source": []
  },
  {
   "cell_type": "markdown",
   "metadata": {},
   "source": [
    "The data can be downloaeded from \n",
    "https://scihub.copernicus.eu/dhus/#/home\n",
    "look for Sentinel 2 images in the area of interest, \n",
    "preview them and find thouse that have the lowest cloud cover.\n",
    "\n",
    "Since area of interest is much less than the size of the image, this has to be done manually. \n",
    "\n",
    "Remember that it is only possible to download two images at a time.\n",
    "\n",
    "I am using \n",
    "\n",
    "N0204_R061_T47NMC_20161228T035030\n",
    "\n",
    "and \n",
    "\n",
    "N0204_R061_T47NMD_20161228T035030\n",
    "\n",
    "in this example."
   ]
  },
  {
   "cell_type": "markdown",
   "metadata": {},
   "source": [
    "You can preview these images in QGIS, or Monteverdi;\n",
    "the full resolution RGB composites are stored in\n",
    "\n",
    "?\\GRANULE\\?\\IMG_DATA\\?TCI.jp2"
   ]
  },
  {
   "cell_type": "markdown",
   "metadata": {},
   "source": [
    "These two cover the entire island, with most of its area free of clound cover.\n",
    "\n",
    "The RGB product can be draped over the DEM and displayed in a browser using a Qgis2threejs plugin.\n",
    "\n",
    "Here we should be able to see different types of vegetation (forest, jungle, farmland), different type of soil (volcanic tuffs, clays, metasediments), and possibly varying water impurities (due to pollution from fisheries, hot springs, farm runoff)."
   ]
  },
  {
   "cell_type": "markdown",
   "metadata": {},
   "source": [
    "The first step would be to mosaic the images and crop them, this can be done with orfeo extension, provided we know the extent of the area of interest.\n",
    "\n",
    "For now lets just copy extent from QGIS field of view:\n",
    "\n",
    "9511003.4694, 304820.6494 - 9560553.0237, 355724.6334"
   ]
  },
  {
   "cell_type": "markdown",
   "metadata": {},
   "source": [
    "However, since projection is probably not correct, it would be better for us to determine the bounding box in the native image CRS, for which we can open the images in Monteverdi.\n",
    "\n",
    "X=440000, Y=326700, X=509800, Y=246500\n"
   ]
  },
  {
   "cell_type": "markdown",
   "metadata": {},
   "source": [
    "Alternatively, we can extract ROI using a reference image, for this we use Clipper tool in QGIS on our DEM, when using the clipper tool make sure the image is in the veiwer is in correct CRS, else it won't work.\n"
   ]
  },
  {
   "cell_type": "raw",
   "metadata": {},
   "source": [
    "We should use orfeo toolbox for this task, such as\n",
    "\n",
    "otbcli_ExtractROI -in sentinelData/S2A_MSIL1C_20161228T034142_N0204_R061_T47NMC_20161228T035030.SAFE/GRANULE/L1C_T47NMC_A007923_20161228T035030/IMG_DATA/T47NMC_20161228T034142_TCI.jp2 -mode fit -mode.fit.ref ../processing/data/dem/DEMclipped2.tif -out test01.tif\n",
    "\n",
    "but since we need to repeat this for all files we do a command line substitution in bash"
   ]
  },
  {
   "cell_type": "raw",
   "metadata": {},
   "source": [
    "SOURCE=sentinelData/S2A_MSIL1C_20161228T034142_N0204_R061_T47NMC_20161228T035030.SAFE/GRANULE/L1C_T47NMC_A007923_20161228T035030/IMG_DATA/"
   ]
  },
  {
   "cell_type": "raw",
   "metadata": {},
   "source": [
    "for file in $SOURCE*; do file=${file##*/}; fileOut=${file%%.*}; otbcli_ExtractROI -in $SOURCE/$file -mode fit -mode.fit.ref ../processing/data/dem/DEMclipped2.tif -out test02/$fileOut.tif; done\n"
   ]
  },
  {
   "cell_type": "raw",
   "metadata": {},
   "source": [
    "Next update the source variable and output folder and run again:\n",
    "\n",
    "SOURCE=sentinelData/S2A_MSIL1C_20161228T034142_N0204_R061_T47NMD_20161228T035030.SAFE/GRANULE/L1C_T47NMD_A007923_20161228T035030/IMG_DATA/\n",
    "\n",
    "for file in $SOURCE*; do file=${file##*/}; fileOut=${file%%.*}; otbcli_ExtractROI -in $SOURCE/$file -mode fit -mode.fit.ref ../processing/data/dem/DEMclipped2.tif -out test02b/$fileOut.tif; done\n",
    "\n",
    "To repeat the batch processing process for a second image\n",
    "\n",
    "Afterwards, we will mosaic each band using GDAL. Or maybe mask the clouds first and them mosaic, something like that. Continue on sunday.\n"
   ]
  },
  {
   "cell_type": "raw",
   "metadata": {},
   "source": []
  },
  {
   "cell_type": "raw",
   "metadata": {},
   "source": [
    "Now we want to rename these files so they are easier to work with, from both directories call:\n",
    "for file in ./*; do mv $file ${file##*_};done\n",
    "\n",
    "Afterwards, create variables for each folder:\n",
    "SA=/home/mminin/Documents/RemoteSensing/practicals/orfeo/test02\n",
    "SB=/home/mminin/Documents/RemoteSensing/practicals/orfeo/test02b\n",
    "SO=/home/mminin/Documents/RemoteSensing/practicals/orfeo/test04\n",
    "\n",
    "for file in $SA/*; do file=${file##*/}; gdal_merge.py -of GTiff -o $SO/$file $SA/$file $SB/$file; done\n",
    "\n",
    "Check the output directory, the files should be mosaiced now."
   ]
  },
  {
   "cell_type": "raw",
   "metadata": {},
   "source": [
    "Now we combine bands 1, 9, 10 as separate bands. You can build this command using a Merge tool in QGIS:\n",
    "\n",
    "gdal_merge.py -separate -of GTiff -o /home/mminin/Documents/RemoteSensing/practicals/orfeo/test05/lowResRGB01.tif /home/mminin/Documents/RemoteSensing/practicals/orfeo/test04/B01.tif /home/mminin/Documents/RemoteSensing/practicals/orfeo/test04/B09.tif /home/mminin/Documents/RemoteSensing/practicals/orfeo/test04/B10.tif\n",
    "\n",
    "Afterwards compute a sum of channels 2,3,4,8 using raster algebra in qgis, and finally run\n",
    "\n",
    "otbcli_BundleToPerfectSensor -inp \"/home/mminin/Documents/RemoteSensing/practicals/orfeo/test05/PanRGBI02.tif\" -inxs \"/home/mminin/Documents/RemoteSensing/practicals/orfeo/test05/lowResRGB01.tif\" -out \"/home/mminin/Documents/RemoteSensing/practicals/orfeo/test05/pansharpRCS01.tif\"\n"
   ]
  },
  {
   "cell_type": "raw",
   "metadata": {
    "collapsed": true
   },
   "source": [
    "\n",
    "\n"
   ]
  },
  {
   "cell_type": "raw",
   "metadata": {
    "collapsed": true
   },
   "source": [
    "Finally, we shall generate some radiometric indices, for this we merge channels 2,3,4,8:\n",
    "\n",
    "SOURCE=/home/mminin/Documents/RemoteSensing/practicals/orfeo/test04\n",
    "\n",
    "gdal_merge.py -separate -of GTiff -o /home/mminin/Documents/RemoteSensing/practicals/orfeo/test05/RGBNir01.tif $SOURCE/B02.tif $SOURCE/B03.tif $SOURCE/B04.tif $SOURCE/B08.tif\n",
    "\n",
    "Then compute radiometric indices\n",
    "\n",
    "otbcli_RadiometricIndices -in /home/mminin/Documents/RemoteSensing/practicals/orfeo/test05/RGBNir01.tif -channels.blue 0 -channels.green 1 -channels.red 2 -channels.nir 3 -list Vegetation:NDVI Vegetation:RVI Vegetation:IPVI -out /home/mminin/Documents/RemoteSensing/practicals/orfeo/test05/RadiometricIndicesImage02.tif\n",
    "\n",
    "otbcli_RadiometricIndices -in /home/mminin/Documents/RemoteSensing/practicals/orfeo/test05/RGBNir01.tif -channels.blue 0 -channels.green 1 -channels.red 2 -channels.nir 3 -list Soil:BI2 Vegetation:NDVI Soil:CI -out /home/mminin/Documents/RemoteSensing/practicals/orfeo/test05/RadiometricIndicesImage02.tif\n"
   ]
  },
  {
   "cell_type": "raw",
   "metadata": {
    "collapsed": true
   },
   "source": [
    "Sentinel data comes in range of 0-4095, so to get meaningful results we need to divide spectral channels by 4095.\n",
    "\n",
    "We need to apply some normalization to the multispectral data, for that we will use gdal_calc.py\n",
    "\n",
    "\n",
    "SA=in\n",
    "SB=out\n",
    "\n",
    "for file in $SA/*; do file=${file##*/}; gdal_calc.py -A $SA/$file --outfile=$SB/$file --calc=\"A/4095\" --NoDataValue=-1;done\n",
    "\n",
    "\n",
    "\n",
    "\n"
   ]
  },
  {
   "cell_type": "raw",
   "metadata": {},
   "source": [
    "SO=combo\n",
    "SI=out\n",
    "gdal_merge.py -separate -of GTiff -o $SO/allBands01a.tif $SI/B01.tif $SI/B02.tif $SI/B03.tif $SI/B04.tif $SI/B05.tif $SI/B06.tif $SI/B07.tif $SI/B08.tif $SI/B8A.tif $SI/B09.tif $SI/B10.tif $SI/B11.tif $SI/B12.tif\n",
    "\n",
    "\n",
    "\n",
    "/home/mminin/Documents/RemoteSensing/practicals/orfeo/test04/B01.tif /home/mminin/Documents/RemoteSensing/practicals/orfeo/test04/B09.tif /home/mminin/Documents/RemoteSensing/practicals/orfeo/test04/B10.tif\n",
    "\n",
    "\n",
    "\n",
    "SO=combo\n",
    "SI=out\n",
    "gdal_merge.py -separate -of GTiff -o $SO/RGBNir01.tif $SI/B02.tif $SI/B03.tif $SI/B04.tif $SI/B08.tif\n",
    "\n",
    "\n"
   ]
  }
 ],
 "metadata": {
  "anaconda-cloud": {},
  "kernelspec": {
   "display_name": "mmq",
   "language": "python",
   "name": "mmq"
  },
  "language_info": {
   "codemirror_mode": {
    "name": "ipython",
    "version": 2
   },
   "file_extension": ".py",
   "mimetype": "text/x-python",
   "name": "python",
   "nbconvert_exporter": "python",
   "pygments_lexer": "ipython2",
   "version": "2.7.12"
  }
 },
 "nbformat": 4,
 "nbformat_minor": 1
}
